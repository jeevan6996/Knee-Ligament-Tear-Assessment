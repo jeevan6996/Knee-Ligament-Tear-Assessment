{
 "cells": [
  {
   "cell_type": "markdown",
   "id": "3744f356",
   "metadata": {},
   "source": [
    "## KneeMRI Exploratory Data Analysis"
   ]
  },
  {
   "cell_type": "markdown",
   "id": "74e00a73",
   "metadata": {},
   "source": [
    "#### Inspect the files"
   ]
  },
  {
   "cell_type": "code",
   "execution_count": 1,
   "id": "5dc437e2",
   "metadata": {},
   "outputs": [
    {
     "name": "stdout",
     "output_type": "stream",
     "text": [
      "\u001b[01;34mData/KneeMRI/\u001b[0m\r\n",
      "├── \u001b[00mmetadata-aug.csv\u001b[0m\r\n",
      "├── \u001b[00mmetadata.csv\u001b[0m\r\n",
      "├── \u001b[01;34mvol01\u001b[0m\r\n",
      "├── \u001b[01;34mvol02\u001b[0m\r\n",
      "├── \u001b[01;34mvol03\u001b[0m\r\n",
      "├── \u001b[01;34mvol04\u001b[0m\r\n",
      "├── \u001b[01;34mvol05\u001b[0m\r\n",
      "├── \u001b[01;34mvol06\u001b[0m\r\n",
      "├── \u001b[01;34mvol07\u001b[0m\r\n",
      "├── \u001b[01;34mvol08\u001b[0m\r\n",
      "├── \u001b[01;34mvol09\u001b[0m\r\n",
      "└── \u001b[01;34mvol10\u001b[0m\r\n",
      "\r\n",
      "11 directories, 2 files\r\n"
     ]
    }
   ],
   "source": [
    "# Explore the directory structure and files in the dataset MRNet\n",
    "!tree -L 1 Data/KneeMRI/"
   ]
  },
  {
   "cell_type": "markdown",
   "id": "64081566",
   "metadata": {},
   "source": [
    "#### Inspect the MRIs"
   ]
  },
  {
   "cell_type": "code",
   "execution_count": 7,
   "id": "8156844d",
   "metadata": {},
   "outputs": [],
   "source": [
    "import pickle\n",
    "import platform\n",
    "from glob import glob\n",
    "\n",
    "import matplotlib.pyplot as plt\n",
    "import numpy as np\n",
    "import pandas as pd\n",
    "import seaborn as sns"
   ]
  },
  {
   "cell_type": "code",
   "execution_count": 8,
   "id": "96dca108",
   "metadata": {},
   "outputs": [],
   "source": [
    "# Directory where the volumetric data is located\n",
    "volumetric_data_dir = 'Data/KneeMRI'\n",
    "\n",
    "# Path to metadata csv file\n",
    "metadata_csv_path = 'Data/KneeMRI/metadata.csv'"
   ]
  },
  {
   "cell_type": "code",
   "execution_count": 90,
   "id": "ad31a0e4",
   "metadata": {},
   "outputs": [],
   "source": [
    "kneemri_labels = {0: 'healthy', 1: 'partially ruptured', 2: 'completely ruptured'}"
   ]
  },
  {
   "cell_type": "code",
   "execution_count": 119,
   "id": "a2c6d654",
   "metadata": {},
   "outputs": [],
   "source": [
    "def plot_slices_per_exam(data_paths):\n",
    "    \"\"\"\n",
    "    This function plots the distibution of slices found in MRIs\n",
    "    of the KneeMRI dataset.\n",
    "\n",
    "    Args:\n",
    "        data_paths (list): List of the directories in KneeMRI dataset\n",
    "    \"\"\"\n",
    "    num_slices_per_exam = []\n",
    "    for path in data_paths:\n",
    "        for exam in glob(path + \"/*.pck\"):\n",
    "            with open(exam, 'rb') as file_handler:  # Must use 'rb' as the data is binary\n",
    "                mri_vol = pickle.load(file_handler)\n",
    "                num_slices_per_exam.append(mri_vol.shape[0])\n",
    "    fig, ax = plt.subplots(figsize=(8, 6), dpi=80)\n",
    "    fig.suptitle('KneeMRI', fontsize=14)\n",
    "    num_slices = np.asarray(num_slices_per_exam)\n",
    "    print(f\"For KneeMRI Sagittal plane min : {num_slices.min()}, max : {num_slices.max()}, avg : {num_slices.mean()}\")\n",
    "    sns.histplot(num_slices, stat='density', ax=ax, kde=True)\n",
    "    ax.set_title(\"Sagittal Plane Slices Distribution\", pad=15)\n",
    "    plt.show()"
   ]
  },
  {
   "cell_type": "code",
   "execution_count": 121,
   "id": "e8b8d972",
   "metadata": {},
   "outputs": [],
   "source": [
    "mri_vol_paths = glob(volumetric_data_dir + \"/vol*\")"
   ]
  },
  {
   "cell_type": "code",
   "execution_count": 122,
   "id": "f37b24ef",
   "metadata": {},
   "outputs": [],
   "source": [
    "mri_vol_paths.sort()"
   ]
  },
  {
   "cell_type": "code",
   "execution_count": 123,
   "id": "e4f4fcfa",
   "metadata": {},
   "outputs": [
    {
     "data": {
      "text/plain": [
       "['Data/KneeMRI\\\\vol01',\n",
       " 'Data/KneeMRI\\\\vol02',\n",
       " 'Data/KneeMRI\\\\vol03',\n",
       " 'Data/KneeMRI\\\\vol04',\n",
       " 'Data/KneeMRI\\\\vol05',\n",
       " 'Data/KneeMRI\\\\vol06',\n",
       " 'Data/KneeMRI\\\\vol07',\n",
       " 'Data/KneeMRI\\\\vol08',\n",
       " 'Data/KneeMRI\\\\vol09',\n",
       " 'Data/KneeMRI\\\\vol10']"
      ]
     },
     "execution_count": 123,
     "metadata": {},
     "output_type": "execute_result"
    }
   ],
   "source": [
    "mri_vol_paths"
   ]
  },
  {
   "cell_type": "code",
   "execution_count": 124,
   "id": "445d2c56",
   "metadata": {},
   "outputs": [
    {
     "name": "stdout",
     "output_type": "stream",
     "text": [
      "For KneeMRI Sagittal plane min : 21, max : 45, avg : 30.925845147219192\n"
     ]
    },
    {
     "data": {
      "image/png": "[encoded data removed]",
      "text/plain": [
       "<Figure size 640x480 with 1 Axes>"
      ]
     },
     "metadata": {
      "needs_background": "light"
     },
     "output_type": "display_data"
    }
   ],
   "source": [
    "plot_slices_per_exam(mri_vol_paths)"
   ]
  },
  {
   "cell_type": "markdown",
   "id": "e1c46a95",
   "metadata": {},
   "source": [
    "#### Inspecting CSVs"
   ]
  },
  {
   "cell_type": "code",
   "execution_count": 14,
   "id": "8f4a5a82",
   "metadata": {},
   "outputs": [],
   "source": [
    "# names=True loads the interprets the first row of csv file as column names\n",
    "# 'i4' = 4 byte signed integer, 'U20' = unicode max 20 char string\n",
    "metadata = np.genfromtxt(metadata_csv_path, delimiter=',', names=True,\n",
    "                         dtype='i4,i4,i4,i4,i4,i4,i4,i4,i4,i4,U20') "
   ]
  },
  {
   "cell_type": "code",
   "execution_count": 15,
   "id": "36482830",
   "metadata": {},
   "outputs": [],
   "source": [
    "metadata_df = pd.DataFrame(metadata)"
   ]
  },
  {
   "cell_type": "code",
   "execution_count": 16,
   "id": "9fc35c5a",
   "metadata": {},
   "outputs": [
    {
     "data": {
      "text/html": [
       "<div>\n",
       "<style scoped>\n",
       "    .dataframe tbody tr th:only-of-type {\n",
       "        vertical-align: middle;\n",
       "    }\n",
       "\n",
       "    .dataframe tbody tr th {\n",
       "        vertical-align: top;\n",
       "    }\n",
       "\n",
       "    .dataframe thead th {\n",
       "        text-align: right;\n",
       "    }\n",
       "</style>\n",
       "<table border=\"1\" class=\"dataframe\">\n",
       "  <thead>\n",
       "    <tr style=\"text-align: right;\">\n",
       "      <th></th>\n",
       "      <th>examId</th>\n",
       "      <th>seriesNo</th>\n",
       "      <th>aclDiagnosis</th>\n",
       "      <th>kneeLR</th>\n",
       "      <th>roiX</th>\n",
       "      <th>roiY</th>\n",
       "      <th>roiZ</th>\n",
       "      <th>roiHeight</th>\n",
       "      <th>roiWidth</th>\n",
       "      <th>roiDepth</th>\n",
       "      <th>volumeFilename</th>\n",
       "    </tr>\n",
       "  </thead>\n",
       "  <tbody>\n",
       "    <tr>\n",
       "      <th>0</th>\n",
       "      <td>329637</td>\n",
       "      <td>8</td>\n",
       "      <td>0</td>\n",
       "      <td>1</td>\n",
       "      <td>139</td>\n",
       "      <td>184</td>\n",
       "      <td>14</td>\n",
       "      <td>74</td>\n",
       "      <td>72</td>\n",
       "      <td>3</td>\n",
       "      <td>329637-8.pck</td>\n",
       "    </tr>\n",
       "    <tr>\n",
       "      <th>1</th>\n",
       "      <td>390116</td>\n",
       "      <td>9</td>\n",
       "      <td>0</td>\n",
       "      <td>0</td>\n",
       "      <td>113</td>\n",
       "      <td>105</td>\n",
       "      <td>10</td>\n",
       "      <td>83</td>\n",
       "      <td>98</td>\n",
       "      <td>6</td>\n",
       "      <td>390116-9.pck</td>\n",
       "    </tr>\n",
       "    <tr>\n",
       "      <th>2</th>\n",
       "      <td>404663</td>\n",
       "      <td>8</td>\n",
       "      <td>1</td>\n",
       "      <td>1</td>\n",
       "      <td>120</td>\n",
       "      <td>117</td>\n",
       "      <td>15</td>\n",
       "      <td>101</td>\n",
       "      <td>115</td>\n",
       "      <td>2</td>\n",
       "      <td>404663-8.pck</td>\n",
       "    </tr>\n",
       "    <tr>\n",
       "      <th>3</th>\n",
       "      <td>406320</td>\n",
       "      <td>9</td>\n",
       "      <td>0</td>\n",
       "      <td>0</td>\n",
       "      <td>117</td>\n",
       "      <td>124</td>\n",
       "      <td>12</td>\n",
       "      <td>91</td>\n",
       "      <td>80</td>\n",
       "      <td>3</td>\n",
       "      <td>406320-9.pck</td>\n",
       "    </tr>\n",
       "    <tr>\n",
       "      <th>4</th>\n",
       "      <td>412857</td>\n",
       "      <td>8</td>\n",
       "      <td>0</td>\n",
       "      <td>1</td>\n",
       "      <td>122</td>\n",
       "      <td>105</td>\n",
       "      <td>14</td>\n",
       "      <td>83</td>\n",
       "      <td>98</td>\n",
       "      <td>4</td>\n",
       "      <td>412857-8.pck</td>\n",
       "    </tr>\n",
       "    <tr>\n",
       "      <th>...</th>\n",
       "      <td>...</td>\n",
       "      <td>...</td>\n",
       "      <td>...</td>\n",
       "      <td>...</td>\n",
       "      <td>...</td>\n",
       "      <td>...</td>\n",
       "      <td>...</td>\n",
       "      <td>...</td>\n",
       "      <td>...</td>\n",
       "      <td>...</td>\n",
       "      <td>...</td>\n",
       "    </tr>\n",
       "    <tr>\n",
       "      <th>912</th>\n",
       "      <td>1027212</td>\n",
       "      <td>5</td>\n",
       "      <td>1</td>\n",
       "      <td>1</td>\n",
       "      <td>113</td>\n",
       "      <td>127</td>\n",
       "      <td>16</td>\n",
       "      <td>101</td>\n",
       "      <td>99</td>\n",
       "      <td>3</td>\n",
       "      <td>1027212-5.pck</td>\n",
       "    </tr>\n",
       "    <tr>\n",
       "      <th>913</th>\n",
       "      <td>1028019</td>\n",
       "      <td>5</td>\n",
       "      <td>1</td>\n",
       "      <td>1</td>\n",
       "      <td>105</td>\n",
       "      <td>102</td>\n",
       "      <td>14</td>\n",
       "      <td>95</td>\n",
       "      <td>100</td>\n",
       "      <td>3</td>\n",
       "      <td>1028019-5.pck</td>\n",
       "    </tr>\n",
       "    <tr>\n",
       "      <th>914</th>\n",
       "      <td>1028028</td>\n",
       "      <td>5</td>\n",
       "      <td>0</td>\n",
       "      <td>0</td>\n",
       "      <td>118</td>\n",
       "      <td>84</td>\n",
       "      <td>15</td>\n",
       "      <td>100</td>\n",
       "      <td>100</td>\n",
       "      <td>2</td>\n",
       "      <td>1028028-5.pck</td>\n",
       "    </tr>\n",
       "    <tr>\n",
       "      <th>915</th>\n",
       "      <td>1028069</td>\n",
       "      <td>5</td>\n",
       "      <td>0</td>\n",
       "      <td>0</td>\n",
       "      <td>105</td>\n",
       "      <td>97</td>\n",
       "      <td>15</td>\n",
       "      <td>103</td>\n",
       "      <td>106</td>\n",
       "      <td>4</td>\n",
       "      <td>1028069-5.pck</td>\n",
       "    </tr>\n",
       "    <tr>\n",
       "      <th>916</th>\n",
       "      <td>1028670</td>\n",
       "      <td>5</td>\n",
       "      <td>1</td>\n",
       "      <td>0</td>\n",
       "      <td>113</td>\n",
       "      <td>108</td>\n",
       "      <td>14</td>\n",
       "      <td>103</td>\n",
       "      <td>110</td>\n",
       "      <td>4</td>\n",
       "      <td>1028670-5.pck</td>\n",
       "    </tr>\n",
       "  </tbody>\n",
       "</table>\n",
       "<p>917 rows × 11 columns</p>\n",
       "</div>"
      ],
      "text/plain": [
       "      examId  seriesNo  aclDiagnosis  kneeLR  roiX  roiY  roiZ  roiHeight  \\\n",
       "0     329637         8             0       1   139   184    14         74   \n",
       "1     390116         9             0       0   113   105    10         83   \n",
       "2     404663         8             1       1   120   117    15        101   \n",
       "3     406320         9             0       0   117   124    12         91   \n",
       "4     412857         8             0       1   122   105    14         83   \n",
       "..       ...       ...           ...     ...   ...   ...   ...        ...   \n",
       "912  1027212         5             1       1   113   127    16        101   \n",
       "913  1028019         5             1       1   105   102    14         95   \n",
       "914  1028028         5             0       0   118    84    15        100   \n",
       "915  1028069         5             0       0   105    97    15        103   \n",
       "916  1028670         5             1       0   113   108    14        103   \n",
       "\n",
       "     roiWidth  roiDepth volumeFilename  \n",
       "0          72         3   329637-8.pck  \n",
       "1          98         6   390116-9.pck  \n",
       "2         115         2   404663-8.pck  \n",
       "3          80         3   406320-9.pck  \n",
       "4          98         4   412857-8.pck  \n",
       "..        ...       ...            ...  \n",
       "912        99         3  1027212-5.pck  \n",
       "913       100         3  1028019-5.pck  \n",
       "914       100         2  1028028-5.pck  \n",
       "915       106         4  1028069-5.pck  \n",
       "916       110         4  1028670-5.pck  \n",
       "\n",
       "[917 rows x 11 columns]"
      ]
     },
     "execution_count": 16,
     "metadata": {},
     "output_type": "execute_result"
    }
   ],
   "source": [
    "metadata_df"
   ]
  },
  {
   "cell_type": "code",
   "execution_count": 12,
   "id": "e44d121e",
   "metadata": {},
   "outputs": [
    {
     "data": {
      "text/html": [
       "<div>\n",
       "<style scoped>\n",
       "    .dataframe tbody tr th:only-of-type {\n",
       "        vertical-align: middle;\n",
       "    }\n",
       "\n",
       "    .dataframe tbody tr th {\n",
       "        vertical-align: top;\n",
       "    }\n",
       "\n",
       "    .dataframe thead th {\n",
       "        text-align: right;\n",
       "    }\n",
       "</style>\n",
       "<table border=\"1\" class=\"dataframe\">\n",
       "  <thead>\n",
       "    <tr style=\"text-align: right;\">\n",
       "      <th></th>\n",
       "      <th>examId</th>\n",
       "      <th>seriesNo</th>\n",
       "      <th>aclDiagnosis</th>\n",
       "      <th>kneeLR</th>\n",
       "      <th>roiX</th>\n",
       "      <th>roiY</th>\n",
       "      <th>roiZ</th>\n",
       "      <th>roiHeight</th>\n",
       "      <th>roiWidth</th>\n",
       "      <th>roiDepth</th>\n",
       "      <th>volumeFilename</th>\n",
       "    </tr>\n",
       "  </thead>\n",
       "  <tbody>\n",
       "    <tr>\n",
       "      <th>0</th>\n",
       "      <td>329637</td>\n",
       "      <td>8</td>\n",
       "      <td>0</td>\n",
       "      <td>1</td>\n",
       "      <td>139</td>\n",
       "      <td>184</td>\n",
       "      <td>14</td>\n",
       "      <td>74</td>\n",
       "      <td>72</td>\n",
       "      <td>3</td>\n",
       "      <td>329637-8.pck</td>\n",
       "    </tr>\n",
       "  </tbody>\n",
       "</table>\n",
       "</div>"
      ],
      "text/plain": [
       "   examId  seriesNo  aclDiagnosis  kneeLR  roiX  roiY  roiZ  roiHeight  \\\n",
       "0  329637         8             0       1   139   184    14         74   \n",
       "\n",
       "   roiWidth  roiDepth volumeFilename  \n",
       "0        72         3   329637-8.pck  "
      ]
     },
     "execution_count": 12,
     "metadata": {},
     "output_type": "execute_result"
    }
   ],
   "source": [
    "metadata_df[metadata['examId'] == 329637]"
   ]
  },
  {
   "cell_type": "code",
   "execution_count": 17,
   "id": "ec6ed51b",
   "metadata": {},
   "outputs": [
    {
     "data": {
      "text/plain": [
       "0    690\n",
       "1    172\n",
       "2     55\n",
       "Name: aclDiagnosis, dtype: int64"
      ]
     },
     "execution_count": 17,
     "metadata": {},
     "output_type": "execute_result"
    }
   ],
   "source": [
    "metadata_df['aclDiagnosis'].value_counts()"
   ]
  },
  {
   "cell_type": "code",
   "execution_count": 118,
   "id": "4703bf5f",
   "metadata": {},
   "outputs": [
    {
     "data": {
      "image/png": "[encoded data removed]",
      "text/plain": [
       "<Figure size 800x480 with 1 Axes>"
      ]
     },
     "metadata": {
      "needs_background": "light"
     },
     "output_type": "display_data"
    }
   ],
   "source": [
    "fig, ax = plt.subplots(figsize=(10, 6), dpi=80)\n",
    "fig.suptitle('KneeMRI', fontsize=14)\n",
    "ax = sns.barplot(x=metadata_df['aclDiagnosis'].value_counts().index,\n",
    "                 y=metadata_df['aclDiagnosis'].value_counts(),\n",
    "                 ax=ax)\n",
    "ax.bar_label(ax.containers[0])\n",
    "ax.set_xlabel('Labels')\n",
    "ax.set_ylabel('Count of Samples')\n",
    "ax.set_title('Total Samples in each Class', pad=15)\n",
    "plt.show()"
   ]
  },
  {
   "cell_type": "code",
   "execution_count": 18,
   "id": "39e93be8",
   "metadata": {},
   "outputs": [
    {
     "data": {
      "text/plain": [
       "1    469\n",
       "0    448\n",
       "Name: kneeLR, dtype: int64"
      ]
     },
     "execution_count": 18,
     "metadata": {},
     "output_type": "execute_result"
    }
   ],
   "source": [
    "metadata_df['kneeLR'].value_counts()"
   ]
  },
  {
   "cell_type": "code",
   "execution_count": 117,
   "id": "9d400830",
   "metadata": {},
   "outputs": [
    {
     "data": {
      "image/png": "[encoded data removed]",
      "text/plain": [
       "<Figure size 800x480 with 1 Axes>"
      ]
     },
     "metadata": {
      "needs_background": "light"
     },
     "output_type": "display_data"
    }
   ],
   "source": [
    "fig, ax = plt.subplots(figsize=(10, 6), dpi=80)\n",
    "fig.suptitle('KneeMRI', fontsize=14)\n",
    "ax = sns.barplot(x=metadata_df['kneeLR'].value_counts().index, \n",
    "                 y=metadata_df['kneeLR'].value_counts(), \n",
    "                 ax=ax)\n",
    "ax.bar_label(ax.containers[0])\n",
    "ax.set_xlabel('Left or Right Knee')\n",
    "ax.set_ylabel('Count of Samples')\n",
    "ax.set_title('Total Samples for Left or Right Knees', pad=15)\n",
    "plt.show()"
   ]
  },
  {
   "cell_type": "code",
   "execution_count": 19,
   "id": "324e0f80",
   "metadata": {},
   "outputs": [
    {
     "data": {
      "text/plain": [
       "0    75.245365\n",
       "1    18.756816\n",
       "2     5.997819\n",
       "Name: aclDiagnosis, dtype: float64"
      ]
     },
     "execution_count": 19,
     "metadata": {},
     "output_type": "execute_result"
    }
   ],
   "source": [
    "metadata_df['aclDiagnosis'].value_counts(normalize=True)*100"
   ]
  },
  {
   "cell_type": "code",
   "execution_count": 61,
   "id": "acc00cc0",
   "metadata": {},
   "outputs": [
    {
     "data": {
      "text/plain": [
       "1    0.51145\n",
       "0    0.48855\n",
       "Name: kneeLR, dtype: float64"
      ]
     },
     "execution_count": 61,
     "metadata": {},
     "output_type": "execute_result"
    }
   ],
   "source": [
    "metadata_df['kneeLR'].value_counts(normalize=True)"
   ]
  },
  {
   "cell_type": "code",
   "execution_count": 116,
   "id": "837bfcec",
   "metadata": {},
   "outputs": [
    {
     "data": {
      "image/png": "[encoded data removed]",
      "text/plain": [
       "<Figure size 800x480 with 1 Axes>"
      ]
     },
     "metadata": {},
     "output_type": "display_data"
    }
   ],
   "source": [
    "fig, ax = plt.subplots(figsize=(10, 6), dpi=80)\n",
    "fig.suptitle('KneeMRI', fontsize=14)\n",
    "ax.pie(x=metadata_df['aclDiagnosis'].value_counts(), \n",
    "       labels=metadata_df['aclDiagnosis'].value_counts().index,\n",
    "       autopct='%.1f%%')\n",
    "ax.set_title('Pie Chart of Class Imbalance', pad=10)\n",
    "plt.show()"
   ]
  },
  {
   "cell_type": "markdown",
   "id": "6f5135bb",
   "metadata": {},
   "source": [
    "## After Pre-processing and Data Augmentation"
   ]
  },
  {
   "cell_type": "code",
   "execution_count": 89,
   "id": "0021531a",
   "metadata": {},
   "outputs": [],
   "source": [
    "# Directory where the preprocessed volumetric data is located\n",
    "preprocessed_kneemri_data_dir = 'Preprocessed_Data/KneeMRI'\n",
    "# path to metadata csv file\n",
    "kneemri_metadata_csv_path = 'Data/KneeMRI/metadata.csv'\n",
    "aug_metadata_csv_path = 'Data/KneeMRI/metadata-aug.csv'\n",
    "\n",
    "# For running code on Windows\n",
    "if platform.system() == \"Windows\":\n",
    "    preprocessed_kneemri_data_dir = preprocessed_kneemri_data_dir.replace('/', '\\\\')\n",
    "    kneemri_metadata_csv_path = kneemri_metadata_csv_path.replace('/', '\\\\')\n",
    "    aug_metadata_csv_path = aug_metadata_csv_path.replace('/', '\\\\')"
   ]
  },
  {
   "cell_type": "code",
   "execution_count": 91,
   "id": "adc9c096",
   "metadata": {},
   "outputs": [],
   "source": [
    "if platform.system() == \"Windows\":\n",
    "    mri_vol_paths = glob(preprocessed_kneemri_data_dir + \"\\\\vol*\")\n",
    "else:\n",
    "    mri_vol_paths = glob(preprocessed_kneemri_data_dir + \"/vol*\")\n",
    "mri_vol_paths.sort()"
   ]
  },
  {
   "cell_type": "code",
   "execution_count": 92,
   "id": "8ab6435a",
   "metadata": {},
   "outputs": [],
   "source": [
    "cases = []\n",
    "for mri_data_path in mri_vol_paths:\n",
    "    if platform.system() == \"Windows\":\n",
    "        all_exams = glob(mri_data_path + \"\\\\*.npy\")\n",
    "    else:\n",
    "        all_exams = glob(mri_data_path + \"/*.npy\")\n",
    "    all_exams.sort()\n",
    "    cases.extend(all_exams)"
   ]
  },
  {
   "cell_type": "code",
   "execution_count": 93,
   "id": "a8495821",
   "metadata": {},
   "outputs": [],
   "source": [
    "aug_cases = []\n",
    "for mri_data_path in mri_vol_paths:\n",
    "    if platform.system() == \"Windows\":\n",
    "        all_exams = glob(mri_data_path + \"\\\\aug\\\\*.npy\")\n",
    "    else:\n",
    "        all_exams = glob(mri_data_path + \"/aug/*.npy\")\n",
    "    all_exams.sort()\n",
    "    aug_cases.extend(all_exams)"
   ]
  },
  {
   "cell_type": "code",
   "execution_count": 94,
   "id": "d8a0cdc5",
   "metadata": {},
   "outputs": [],
   "source": [
    "filenames = []\n",
    "filenames.extend(cases)\n",
    "filenames.extend(aug_cases)\n",
    "filenames.sort()"
   ]
  },
  {
   "cell_type": "code",
   "execution_count": 95,
   "id": "0fc366ae",
   "metadata": {},
   "outputs": [
    {
     "data": {
      "text/plain": [
       "1567"
      ]
     },
     "execution_count": 95,
     "metadata": {},
     "output_type": "execute_result"
    }
   ],
   "source": [
    "len(filenames)"
   ]
  },
  {
   "cell_type": "code",
   "execution_count": 96,
   "id": "08eda5a8",
   "metadata": {},
   "outputs": [],
   "source": [
    "# names=True loads the interprets the first row of csv file as column names\n",
    "# 'i4' = 4 byte signed integer, 'U20' = unicode max 20 char string\n",
    "metadata = np.genfromtxt(kneemri_metadata_csv_path, delimiter=',', names=True, \n",
    "                         dtype='i4,i4,i4,i4,i4,i4,i4,i4,i4,i4,U20')\n",
    "metadata_df = pd.DataFrame(metadata)\n",
    "aug_metadata_df = pd.read_csv(aug_metadata_csv_path, index_col=0)\n",
    "full_metadata_df = pd.concat([metadata_df, aug_metadata_df], ignore_index=True)"
   ]
  },
  {
   "cell_type": "code",
   "execution_count": 97,
   "id": "3113a57e",
   "metadata": {},
   "outputs": [
    {
     "data": {
      "text/plain": [
       "1567"
      ]
     },
     "execution_count": 97,
     "metadata": {},
     "output_type": "execute_result"
    }
   ],
   "source": [
    "len(full_metadata_df)"
   ]
  },
  {
   "cell_type": "code",
   "execution_count": 112,
   "id": "14e51ff7",
   "metadata": {},
   "outputs": [
    {
     "data": {
      "image/png": "[encoded data removed]",
      "text/plain": [
       "<Figure size 800x480 with 1 Axes>"
      ]
     },
     "metadata": {
      "needs_background": "light"
     },
     "output_type": "display_data"
    }
   ],
   "source": [
    "fig, ax = plt.subplots(figsize=(10, 6), dpi=80)\n",
    "fig.suptitle('KneeMRI after Pre-processing and Data Augmentation', fontsize=14)\n",
    "ax = sns.barplot(x=full_metadata_df['aclDiagnosis'].value_counts().index, \n",
    "                 y=full_metadata_df['aclDiagnosis'].value_counts(), \n",
    "                 ax=ax)\n",
    "ax.bar_label(ax.containers[0])\n",
    "ax.set_xlabel('Labels')\n",
    "ax.set_ylabel('Count of Samples')\n",
    "ax.set_title('Total Samples in each Class', pad=10)\n",
    "plt.show()"
   ]
  },
  {
   "cell_type": "code",
   "execution_count": 109,
   "id": "5d700539",
   "metadata": {},
   "outputs": [
    {
     "data": {
      "image/png": "[encoded data removed]",
      "text/plain": [
       "<Figure size 800x480 with 1 Axes>"
      ]
     },
     "metadata": {
      "needs_background": "light"
     },
     "output_type": "display_data"
    }
   ],
   "source": [
    "fig, ax = plt.subplots(figsize=(10, 6), dpi=80)\n",
    "fig.suptitle('KneeMRI after Pre-processing and Data Augmentation', fontsize=14)\n",
    "ax = sns.barplot(x=full_metadata_df['kneeLR'].value_counts().index, \n",
    "                 y=full_metadata_df['kneeLR'].value_counts(), \n",
    "                 ax=ax)\n",
    "ax.bar_label(ax.containers[0])\n",
    "ax.set_xlabel('Left or Right Knee')\n",
    "ax.set_ylabel('Count of Samples')\n",
    "ax.set_title('Total Samples for Left or Right Knees', pad=10)\n",
    "plt.show()"
   ]
  },
  {
   "cell_type": "code",
   "execution_count": 131,
   "id": "e0f3b497",
   "metadata": {},
   "outputs": [
    {
     "data": {
      "image/png": "[encoded data removed]",
      "text/plain": [
       "<Figure size 800x480 with 1 Axes>"
      ]
     },
     "metadata": {},
     "output_type": "display_data"
    }
   ],
   "source": [
    "fig, ax = plt.subplots(figsize=(10, 6), dpi=80)\n",
    "fig.suptitle('KneeMRI after Pre-processing and Data Augmentation', fontsize=14)\n",
    "ax.pie(x=full_metadata_df['aclDiagnosis'].value_counts(), \n",
    "       labels=full_metadata_df['aclDiagnosis'].value_counts().index,\n",
    "       autopct='%.1f%%')\n",
    "ax.set_title('Pie Chart of reduced Class Imbalance', pad=10)\n",
    "plt.show()"
   ]
  }
 ],
 "metadata": {
  "kernelspec": {
   "display_name": "Python 3 (ipykernel)",
   "language": "python",
   "name": "python3"
  },
  "language_info": {
   "codemirror_mode": {
    "name": "ipython",
    "version": 3
   },
   "file_extension": ".py",
   "mimetype": "text/x-python",
   "name": "python",
   "nbconvert_exporter": "python",
   "pygments_lexer": "ipython3",
   "version": "3.11.5"
  }
 },
 "nbformat": 4,
 "nbformat_minor": 5
}
